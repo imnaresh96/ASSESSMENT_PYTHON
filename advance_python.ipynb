{
 "cells": [
  {
   "cell_type": "code",
   "execution_count": null,
   "id": "62238587",
   "metadata": {},
   "outputs": [],
   "source": [
    "import sqlite3 as sql\n",
    "db=sql.connect(\"advancepython.db\")\n",
    "cur=db.cursor()\n",
    "cur.execute(\"create table Banker(Can_Register varchar(50), Can_Login varchar(50))\")"
   ]
  },
  {
   "cell_type": "code",
   "execution_count": 34,
   "id": "4bd94f9d",
   "metadata": {},
   "outputs": [
    {
     "name": "stdout",
     "output_type": "stream",
     "text": [
      "1. Banker\n",
      "2. Customer\n",
      "Select Your Role: 2\n",
      "    1. Can Register \n",
      "    2. Can Login \n",
      "    3. Can Withdraw Amount \n",
      "    4. Can deposit amount \n",
      "    5. Can view balance \n",
      "Select Your Task: 3\n",
      "Enter Your Withdraw Amount: 2000\n"
     ]
    },
    {
     "ename": "TypeError",
     "evalue": "'int' object is not iterable",
     "output_type": "error",
     "traceback": [
      "\u001b[1;31m---------------------------------------------------------------------------\u001b[0m",
      "\u001b[1;31mTypeError\u001b[0m                                 Traceback (most recent call last)",
      "Input \u001b[1;32mIn [34]\u001b[0m, in \u001b[0;36m<cell line: 4>\u001b[1;34m()\u001b[0m\n\u001b[0;32m     47\u001b[0m cur\u001b[38;5;241m.\u001b[39mexecute(\u001b[38;5;124m\"\u001b[39m\u001b[38;5;124mselect amount from banker\u001b[39m\u001b[38;5;124m\"\u001b[39m)\n\u001b[0;32m     48\u001b[0m old_amount\u001b[38;5;241m=\u001b[39mcur\u001b[38;5;241m.\u001b[39mfetchall()\n\u001b[1;32m---> 49\u001b[0m old_amount\u001b[38;5;241m+\u001b[39m\u001b[38;5;241m=\u001b[39mamount\n\u001b[0;32m     50\u001b[0m query\u001b[38;5;241m=\u001b[39m \u001b[38;5;124mf\u001b[39m\u001b[38;5;124m'''\u001b[39m\u001b[38;5;124mupdate banker set amount=\u001b[39m\u001b[38;5;124m\"\u001b[39m\u001b[38;5;132;01m{\u001b[39;00mold_amount\u001b[38;5;132;01m}\u001b[39;00m\u001b[38;5;124m\"\u001b[39m\u001b[38;5;124m where login_details= \u001b[39m\u001b[38;5;124m\"\u001b[39m\u001b[38;5;124mnaresh@gmail.com454545\u001b[39m\u001b[38;5;124m\"\u001b[39m\u001b[38;5;124m \u001b[39m\u001b[38;5;124m'''\u001b[39m\n\u001b[0;32m     51\u001b[0m cur\u001b[38;5;241m.\u001b[39mexecute(query)\n",
      "\u001b[1;31mTypeError\u001b[0m: 'int' object is not iterable"
     ]
    }
   ],
   "source": [
    "print('''1. Banker\n",
    "2. Customer''')\n",
    "role=int(input(\"Select Your Role: \"))\n",
    "if role==1:\n",
    "    print('''    1. Can Register \n",
    "    2. Can Login \n",
    "    3. Can Update all Customers\n",
    "    4. Can View all Customers\n",
    "    5. Can Delete all Customers''')\n",
    "    \n",
    "    task=int(input(\"Select Your Task: \"))\n",
    "    if task==1:\n",
    "        pass\n",
    "    elif task==2:\n",
    "        pass\n",
    "    elif task==3:\n",
    "        pass\n",
    "    elif task==4:\n",
    "        pass\n",
    "    elif task==5:\n",
    "        pass\n",
    "    else:\n",
    "        print(\"Invalid Input\")\n",
    "elif role==2:\n",
    "    print('''    1. Can Register \n",
    "    2. Can Login \n",
    "    3. Can Withdraw Amount \n",
    "    4. Can deposit amount \n",
    "    5. Can view balance ''')\n",
    "    task=int(input(\"Select Your Task: \"))\n",
    "    if task==1:\n",
    "        name=input(\"Enter Your Name: \")\n",
    "        email=input(\"Enter Your Email: \")\n",
    "        password=input(\"Enter Your Password: \")\n",
    "        query= f'''insert into banker(login_details, amount) values(\"{email}{password}\",\"00\")'''\n",
    "        cur.execute(query)\n",
    "        db.commit()\n",
    "        \n",
    "    elif task==2:\n",
    "        email=input(\"Enter Your Email: \")\n",
    "        password=input(\"Enter Your Password: \")\n",
    "        query= f'''insert into banker(login_details, amount) values(\"{email}{password}\",\"00\")'''\n",
    "        cur.execute(query)\n",
    "        db.commit()\n",
    "    elif task==3:\n",
    "        amount=int(input(\"Enter Your Withdraw Amount: \"))\n",
    "        cur.execute(\"select amount from banker\")\n",
    "        old_amount=cur.fetchall()\n",
    "        old_amount+=amount\n",
    "        query= f'''update banker set amount=\"{old_amount}\" where login_details= \"naresh@gmail.com454545\" '''\n",
    "        cur.execute(query)\n",
    "        db.commit()\n",
    "        \n",
    "    elif task==4:\n",
    "        amount=input(\"Enter Your Deposite Amount: \")\n",
    "        query=f'''update banker set amount'''\n",
    "    elif task==5:\n",
    "        cur.execute(\"select amount from banker\")\n",
    "        new=cur.fetchall()\n",
    "        print(f\"Your Available Balance Is: {new}\")\n",
    "    else:\n",
    "        print(\"Invalid Input\")"
   ]
  },
  {
   "cell_type": "code",
   "execution_count": 12,
   "id": "a79cb509",
   "metadata": {},
   "outputs": [
    {
     "data": {
      "text/plain": [
       "<sqlite3.Cursor at 0x2ea6cf76960>"
      ]
     },
     "execution_count": 12,
     "metadata": {},
     "output_type": "execute_result"
    }
   ],
   "source": [
    "import sqlite3 as sql\n",
    "db=sql.connect(\"advancepython2.db\")\n",
    "cur=db.cursor()\n",
    "cur.execute(\"create table Banker(login_details varchar(50), amount int(10))\")"
   ]
  },
  {
   "cell_type": "code",
   "execution_count": 6,
   "id": "da354a6c",
   "metadata": {},
   "outputs": [],
   "source": [
    "import sqlite3 as sql"
   ]
  },
  {
   "cell_type": "code",
   "execution_count": 7,
   "id": "63bf23cf",
   "metadata": {},
   "outputs": [],
   "source": [
    "db=sql.connect(\"newdb.db\")"
   ]
  },
  {
   "cell_type": "code",
   "execution_count": 8,
   "id": "570d9693",
   "metadata": {},
   "outputs": [],
   "source": [
    "cur=db.cursor()"
   ]
  },
  {
   "cell_type": "code",
   "execution_count": null,
   "id": "45bd2de4",
   "metadata": {},
   "outputs": [],
   "source": [
    "cur.execute(\"create table customer(amount int(10))\")"
   ]
  },
  {
   "cell_type": "code",
   "execution_count": 22,
   "id": "65e0e207",
   "metadata": {},
   "outputs": [
    {
     "data": {
      "text/plain": [
       "<sqlite3.Cursor at 0x2ea6cf76960>"
      ]
     },
     "execution_count": 22,
     "metadata": {},
     "output_type": "execute_result"
    }
   ],
   "source": [
    "cur.execute(\"select * from banker\")"
   ]
  },
  {
   "cell_type": "code",
   "execution_count": 23,
   "id": "23b8a0b8",
   "metadata": {},
   "outputs": [
    {
     "data": {
      "text/plain": [
       "[('naresh@gmail.com454545', 0)]"
      ]
     },
     "execution_count": 23,
     "metadata": {},
     "output_type": "execute_result"
    }
   ],
   "source": [
    "cur.fetchall()"
   ]
  },
  {
   "cell_type": "code",
   "execution_count": 24,
   "id": "1903314b",
   "metadata": {},
   "outputs": [
    {
     "data": {
      "text/plain": [
       "<sqlite3.Cursor at 0x2ea6cf76960>"
      ]
     },
     "execution_count": 24,
     "metadata": {},
     "output_type": "execute_result"
    }
   ],
   "source": [
    "cur.execute(\"select amount from banker\")\n",
    "cur.fetchall()"
   ]
  },
  {
   "cell_type": "code",
   "execution_count": 25,
   "id": "9ec878e2",
   "metadata": {},
   "outputs": [
    {
     "data": {
      "text/plain": [
       "[(0,)]"
      ]
     },
     "execution_count": 25,
     "metadata": {},
     "output_type": "execute_result"
    }
   ],
   "source": [
    "cur.fetchall()"
   ]
  },
  {
   "cell_type": "code",
   "execution_count": 27,
   "id": "5fd50ca0",
   "metadata": {},
   "outputs": [
    {
     "data": {
      "text/plain": [
       "<sqlite3.Cursor at 0x2ea6cf76960>"
      ]
     },
     "execution_count": 27,
     "metadata": {},
     "output_type": "execute_result"
    }
   ],
   "source": [
    "cur.execute(\"select * from banker\")"
   ]
  },
  {
   "cell_type": "code",
   "execution_count": 28,
   "id": "b820515e",
   "metadata": {},
   "outputs": [
    {
     "data": {
      "text/plain": [
       "[('naresh@gmail.com454545', 0)]"
      ]
     },
     "execution_count": 28,
     "metadata": {},
     "output_type": "execute_result"
    }
   ],
   "source": [
    "cur.fetchall()"
   ]
  },
  {
   "cell_type": "code",
   "execution_count": 31,
   "id": "de71dfce",
   "metadata": {},
   "outputs": [
    {
     "data": {
      "text/plain": [
       "<sqlite3.Cursor at 0x2ea6cf76960>"
      ]
     },
     "execution_count": 31,
     "metadata": {},
     "output_type": "execute_result"
    }
   ],
   "source": [
    "cur.execute('update banker set amount=\"{2000}\" where login_details= \"naresh@gmail.com454545\" ')"
   ]
  },
  {
   "cell_type": "code",
   "execution_count": null,
   "id": "3d26f921",
   "metadata": {},
   "outputs": [],
   "source": []
  }
 ],
 "metadata": {
  "kernelspec": {
   "display_name": "Python 3 (ipykernel)",
   "language": "python",
   "name": "python3"
  },
  "language_info": {
   "codemirror_mode": {
    "name": "ipython",
    "version": 3
   },
   "file_extension": ".py",
   "mimetype": "text/x-python",
   "name": "python",
   "nbconvert_exporter": "python",
   "pygments_lexer": "ipython3",
   "version": "3.9.12"
  }
 },
 "nbformat": 4,
 "nbformat_minor": 5
}
