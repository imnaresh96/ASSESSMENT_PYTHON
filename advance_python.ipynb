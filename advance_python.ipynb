{
 "cells": [
  {
   "cell_type": "code",
   "execution_count": null,
   "id": "62238587",
   "metadata": {},
   "outputs": [],
   "source": [
    "import sqlite3 as sql\n",
    "db=sql.connect(\"advancepython.db\")\n",
    "cur=db.cursor()\n",
    "cur.execute(\"create table Banker(Can_Register varchar(50), Can_Login varchar(50))\")"
   ]
  },
  {
   "cell_type": "code",
   "execution_count": 7,
   "id": "4bd94f9d",
   "metadata": {},
   "outputs": [
    {
     "name": "stdout",
     "output_type": "stream",
     "text": [
      "1. Banker\n",
      "2. Customer\n",
      "Select Your Role: 1\n",
      "    1. Can Register \n",
      "    2. Can Login \n",
      "    3. Can Update all Customers\n",
      "    4. Can View all Customers\n",
      "    5. Can Delete all Customers\n",
      "Select Your Task: 4\n",
      "[('naresh123',)]\n"
     ]
    }
   ],
   "source": [
    "print('''1. Banker\n",
    "2. Customer''')\n",
    "role=int(input(\"Select Your Role: \"))\n",
    "if role==1:\n",
    "    print('''    1. Can Register \n",
    "    2. Can Login \n",
    "    3. Can Update all Customers\n",
    "    4. Can View all Customers\n",
    "    5. Can Delete all Customers''')\n",
    "    \n",
    "    task=int(input(\"Select Your Task: \"))\n",
    "    if task==1:\n",
    "        name=input(\"Enter Your Name: \")\n",
    "        email=input(\"Enter Your Email: \")\n",
    "        password=input(\"Enter Your Password: \")\n",
    "        query= f'''insert into banker(login_details, amount) values(\"{email}{password}\",\"00\")'''\n",
    "        cur.execute(query)\n",
    "        db.commit()\n",
    "    elif task==2:\n",
    "        email=input(\"Enter Your Email: \")\n",
    "        password=input(\"Enter Your Password: \")\n",
    "        query= f'''insert into banker(login_details, amount) values(\"{email}{password}\",\"00\")'''\n",
    "        cur.execute(query)\n",
    "        db.commit()\n",
    "    elif task==3:\n",
    "        pass\n",
    "    elif task==4:\n",
    "        cur.execute(\"select login_details from banker\")\n",
    "        data=cur.fetchall()\n",
    "        print(data)\n",
    "    elif task==5:\n",
    "        cur.execute(\"delete from banker where login_details\")\n",
    "        db.commit()\n",
    "    else:\n",
    "        print(\"Invalid Input\")\n",
    "elif role==2:\n",
    "    print('''    1. Can Register \n",
    "    2. Can Login \n",
    "    3. Can Withdraw Amount \n",
    "    4. Can deposit amount \n",
    "    5. Can view balance ''')\n",
    "    task=int(input(\"Select Your Task: \"))\n",
    "    if task==1:\n",
    "        name=input(\"Enter Your Name: \")\n",
    "        email=input(\"Enter Your Email: \")\n",
    "        password=input(\"Enter Your Password: \")\n",
    "        query= f'''insert into banker(login_details, amount) values(\"{email}{password}\",\"00\")'''\n",
    "        cur.execute(query)\n",
    "        db.commit()\n",
    "        \n",
    "    elif task==2:\n",
    "        email=input(\"Enter Your Email: \")\n",
    "        password=input(\"Enter Your Password: \")\n",
    "        query= f'''insert into banker(login_details, amount) values(\"{email}{password}\",\"00\")'''\n",
    "        cur.execute(query)\n",
    "        db.commit()\n",
    "    elif task==3:\n",
    "        amount=int(input(\"Enter Your Withdraw Amount: \"))\n",
    "        cur.execute(\"select amount from banker\")\n",
    "        old_amount=cur.fetchall()\n",
    "        old_amount-=amount\n",
    "        query= f'''update banker set amount=\"{old_amount}\" where login_details= \"naresh@gmail.com454545\" '''\n",
    "        cur.execute(query)\n",
    "        db.commit()\n",
    "        \n",
    "    elif task==4:\n",
    "        amount=int(input(\"Enter Your Deposite Amount: \"))\n",
    "        cur.execute(\"select amount from banker\")\n",
    "        old_amount=cur.fetchall()\n",
    "        old_amount+=amount\n",
    "        query= f'''update banker set amount=\"{old_amount}\" where login_details= \"naresh@gmail.com454545\" '''\n",
    "        cur.execute(query)\n",
    "        db.commit()\n",
    "    elif task==5:\n",
    "        cur.execute(\"select amount from banker\")\n",
    "        new=cur.fetchall()\n",
    "        print(f\"Your Available Balance Is: {new}\")\n",
    "    else:\n",
    "        print(\"Invalid Input\")"
   ]
  },
  {
   "cell_type": "code",
   "execution_count": 3,
   "id": "a79cb509",
   "metadata": {},
   "outputs": [
    {
     "data": {
      "text/plain": [
       "<sqlite3.Cursor at 0x1e678dabdc0>"
      ]
     },
     "execution_count": 3,
     "metadata": {},
     "output_type": "execute_result"
    }
   ],
   "source": [
    "import sqlite3 as sql\n",
    "db=sql.connect(\"advancepython3.db\")\n",
    "cur=db.cursor()\n",
    "cur.execute(\"create table Banker(login_details varchar(50), amount int(10))\")"
   ]
  },
  {
   "cell_type": "code",
   "execution_count": 6,
   "id": "da354a6c",
   "metadata": {},
   "outputs": [],
   "source": [
    "import sqlite3 as sql"
   ]
  },
  {
   "cell_type": "code",
   "execution_count": 7,
   "id": "63bf23cf",
   "metadata": {},
   "outputs": [],
   "source": [
    "db=sql.connect(\"newdb.db\")"
   ]
  },
  {
   "cell_type": "code",
   "execution_count": 8,
   "id": "570d9693",
   "metadata": {},
   "outputs": [],
   "source": [
    "cur=db.cursor()"
   ]
  },
  {
   "cell_type": "code",
   "execution_count": null,
   "id": "45bd2de4",
   "metadata": {},
   "outputs": [],
   "source": [
    "cur.execute(\"create table customer(amount int(10))\")"
   ]
  },
  {
   "cell_type": "code",
   "execution_count": 22,
   "id": "65e0e207",
   "metadata": {},
   "outputs": [
    {
     "data": {
      "text/plain": [
       "<sqlite3.Cursor at 0x2ea6cf76960>"
      ]
     },
     "execution_count": 22,
     "metadata": {},
     "output_type": "execute_result"
    }
   ],
   "source": [
    "cur.execute(\"select * from banker\")"
   ]
  },
  {
   "cell_type": "code",
   "execution_count": 23,
   "id": "23b8a0b8",
   "metadata": {},
   "outputs": [
    {
     "data": {
      "text/plain": [
       "[('naresh@gmail.com454545', 0)]"
      ]
     },
     "execution_count": 23,
     "metadata": {},
     "output_type": "execute_result"
    }
   ],
   "source": [
    "cur.fetchall()"
   ]
  },
  {
   "cell_type": "code",
   "execution_count": 24,
   "id": "1903314b",
   "metadata": {},
   "outputs": [
    {
     "data": {
      "text/plain": [
       "<sqlite3.Cursor at 0x2ea6cf76960>"
      ]
     },
     "execution_count": 24,
     "metadata": {},
     "output_type": "execute_result"
    }
   ],
   "source": [
    "cur.execute(\"select amount from banker\")\n",
    "cur.fetchall()"
   ]
  },
  {
   "cell_type": "code",
   "execution_count": 25,
   "id": "9ec878e2",
   "metadata": {},
   "outputs": [
    {
     "data": {
      "text/plain": [
       "[(0,)]"
      ]
     },
     "execution_count": 25,
     "metadata": {},
     "output_type": "execute_result"
    }
   ],
   "source": [
    "cur.fetchall()"
   ]
  },
  {
   "cell_type": "code",
   "execution_count": 1,
   "id": "5fd50ca0",
   "metadata": {},
   "outputs": [
    {
     "ename": "NameError",
     "evalue": "name 'cur' is not defined",
     "output_type": "error",
     "traceback": [
      "\u001b[1;31m---------------------------------------------------------------------------\u001b[0m",
      "\u001b[1;31mNameError\u001b[0m                                 Traceback (most recent call last)",
      "Input \u001b[1;32mIn [1]\u001b[0m, in \u001b[0;36m<cell line: 1>\u001b[1;34m()\u001b[0m\n\u001b[1;32m----> 1\u001b[0m \u001b[43mcur\u001b[49m\u001b[38;5;241m.\u001b[39mexecute(\u001b[38;5;124m\"\u001b[39m\u001b[38;5;124mselect * from banker\u001b[39m\u001b[38;5;124m\"\u001b[39m)\n",
      "\u001b[1;31mNameError\u001b[0m: name 'cur' is not defined"
     ]
    }
   ],
   "source": [
    "cur.execute(\"select * from banker\")"
   ]
  },
  {
   "cell_type": "code",
   "execution_count": 28,
   "id": "b820515e",
   "metadata": {},
   "outputs": [
    {
     "data": {
      "text/plain": [
       "[('naresh@gmail.com454545', 0)]"
      ]
     },
     "execution_count": 28,
     "metadata": {},
     "output_type": "execute_result"
    }
   ],
   "source": [
    "cur.fetchall()"
   ]
  },
  {
   "cell_type": "code",
   "execution_count": 31,
   "id": "de71dfce",
   "metadata": {},
   "outputs": [
    {
     "data": {
      "text/plain": [
       "<sqlite3.Cursor at 0x2ea6cf76960>"
      ]
     },
     "execution_count": 31,
     "metadata": {},
     "output_type": "execute_result"
    }
   ],
   "source": [
    "cur.execute('update banker set amount=\"{2000}\" where login_details= \"naresh@gmail.com454545\" ')"
   ]
  },
  {
   "cell_type": "code",
   "execution_count": 7,
   "id": "3d26f921",
   "metadata": {},
   "outputs": [
    {
     "data": {
      "text/plain": [
       "[(0,)]"
      ]
     },
     "execution_count": 7,
     "metadata": {},
     "output_type": "execute_result"
    }
   ],
   "source": [
    "cur.fetchall()"
   ]
  },
  {
   "cell_type": "code",
   "execution_count": 6,
   "id": "43f07339",
   "metadata": {},
   "outputs": [
    {
     "data": {
      "text/plain": [
       "<sqlite3.Cursor at 0x1896ab3f7a0>"
      ]
     },
     "execution_count": 6,
     "metadata": {},
     "output_type": "execute_result"
    }
   ],
   "source": [
    "cur.execute(\"select amount from banker\")"
   ]
  },
  {
   "cell_type": "code",
   "execution_count": 8,
   "id": "e7c4e598",
   "metadata": {},
   "outputs": [
    {
     "data": {
      "text/plain": [
       "[(0,)]"
      ]
     },
     "execution_count": 8,
     "metadata": {},
     "output_type": "execute_result"
    }
   ],
   "source": [
    "old_amount"
   ]
  },
  {
   "cell_type": "code",
   "execution_count": 1,
   "id": "6d8911d8",
   "metadata": {},
   "outputs": [
    {
     "ename": "NameError",
     "evalue": "name 'old_amount' is not defined",
     "output_type": "error",
     "traceback": [
      "\u001b[1;31m---------------------------------------------------------------------------\u001b[0m",
      "\u001b[1;31mNameError\u001b[0m                                 Traceback (most recent call last)",
      "Input \u001b[1;32mIn [1]\u001b[0m, in \u001b[0;36m<cell line: 1>\u001b[1;34m()\u001b[0m\n\u001b[1;32m----> 1\u001b[0m \u001b[38;5;28mtype\u001b[39m(\u001b[43mold_amount\u001b[49m)\n",
      "\u001b[1;31mNameError\u001b[0m: name 'old_amount' is not defined"
     ]
    }
   ],
   "source": [
    "type(old_amount)"
   ]
  },
  {
   "cell_type": "code",
   "execution_count": null,
   "id": "3b01acff",
   "metadata": {},
   "outputs": [],
   "source": []
  }
 ],
 "metadata": {
  "kernelspec": {
   "display_name": "Python 3 (ipykernel)",
   "language": "python",
   "name": "python3"
  },
  "language_info": {
   "codemirror_mode": {
    "name": "ipython",
    "version": 3
   },
   "file_extension": ".py",
   "mimetype": "text/x-python",
   "name": "python",
   "nbconvert_exporter": "python",
   "pygments_lexer": "ipython3",
   "version": "3.9.12"
  }
 },
 "nbformat": 4,
 "nbformat_minor": 5
}
