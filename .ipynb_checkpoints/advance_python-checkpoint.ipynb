{
 "cells": [
  {
   "cell_type": "code",
   "execution_count": null,
   "id": "62238587",
   "metadata": {},
   "outputs": [],
   "source": [
    "import sqlite3 as sql\n"
   ]
  },
  {
   "cell_type": "code",
   "execution_count": null,
   "id": "1c9311e8",
   "metadata": {},
   "outputs": [],
   "source": [
    "db=sql.connect(\"advancepython.db\")"
   ]
  },
  {
   "cell_type": "code",
   "execution_count": null,
   "id": "c885f0dc",
   "metadata": {},
   "outputs": [],
   "source": [
    "cur=db.cursor()"
   ]
  },
  {
   "cell_type": "code",
   "execution_count": null,
   "id": "2f434849",
   "metadata": {},
   "outputs": [],
   "source": [
    "cur.execute(\"create table Banker(Can_Register varchar(50), Can_Login varchar(50))\")"
   ]
  },
  {
   "cell_type": "code",
   "execution_count": 9,
   "id": "4bd94f9d",
   "metadata": {},
   "outputs": [
    {
     "name": "stdout",
     "output_type": "stream",
     "text": [
      "1. Banker\n",
      "2. Customer\n",
      "Select Your Role: 2\n",
      "    1. Can Register \n",
      "    2. Can Login \n",
      "    3. Can Withdraw Amount \n",
      "    4.Can deposit amount \n",
      "    5.Can view balance \n",
      "Select Your Task: 5\n"
     ]
    }
   ],
   "source": [
    "print('''1. Banker\n",
    "2. Customer''')\n",
    "role=int(input(\"Select Your Role: \"))\n",
    "if role==1:\n",
    "    print('''    1. Can Register \n",
    "    2. Can Login \n",
    "    3. Can Update all Customers\n",
    "    4. Can View all Customers\n",
    "    5. Can Delete all Customers''')\n",
    "    \n",
    "    task=int(input(\"Select Your Task: \"))\n",
    "    if task==1:\n",
    "        pass\n",
    "    elif task==2:\n",
    "        pass\n",
    "    elif task==3:\n",
    "        pass\n",
    "    elif task==4:\n",
    "        pass\n",
    "    elif task==5:\n",
    "        pass\n",
    "    else:\n",
    "        print(\"Invalid Input\")\n",
    "elif role==2:\n",
    "    print('''    1. Can Register \n",
    "    2. Can Login \n",
    "    3. Can Withdraw Amount \n",
    "    4. Can deposit amount \n",
    "    5. Can view balance ''')\n",
    "    task=int(input(\"Select Your Task: \"))\n",
    "    if task==1:\n",
    "        pass\n",
    "    elif task==2:\n",
    "        pass\n",
    "    elif task==3:\n",
    "        pass\n",
    "    elif task==4:\n",
    "        pass\n",
    "    elif task==5:\n",
    "        pass\n",
    "    else:\n",
    "        print(\"Invalid Input\")"
   ]
  },
  {
   "cell_type": "code",
   "execution_count": null,
   "id": "a79cb509",
   "metadata": {},
   "outputs": [],
   "source": []
  }
 ],
 "metadata": {
  "kernelspec": {
   "display_name": "Python 3 (ipykernel)",
   "language": "python",
   "name": "python3"
  },
  "language_info": {
   "codemirror_mode": {
    "name": "ipython",
    "version": 3
   },
   "file_extension": ".py",
   "mimetype": "text/x-python",
   "name": "python",
   "nbconvert_exporter": "python",
   "pygments_lexer": "ipython3",
   "version": "3.9.12"
  }
 },
 "nbformat": 4,
 "nbformat_minor": 5
}
