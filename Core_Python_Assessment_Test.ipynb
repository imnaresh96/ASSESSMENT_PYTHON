{
 "cells": [
  {
   "cell_type": "code",
   "execution_count": 25,
   "id": "e79e20e7",
   "metadata": {},
   "outputs": [
    {
     "name": "stdout",
     "output_type": "stream",
     "text": [
      "Welcome to fruit market\n",
      "1. Manager \n",
      "2. Customer\n",
      "Select Your role: 2\n",
      "Welcome To Costomer zone\n",
      "\n",
      "available fruits = ['mango', 'banana', 'orange', 'grapes']\n",
      "\n",
      "enter a fruit name: banana\n"
     ]
    },
    {
     "ename": "KeyError",
     "evalue": "435",
     "output_type": "error",
     "traceback": [
      "\u001b[1;31m---------------------------------------------------------------------------\u001b[0m",
      "\u001b[1;31mKeyError\u001b[0m                                  Traceback (most recent call last)",
      "Input \u001b[1;32mIn [25]\u001b[0m, in \u001b[0;36m<cell line: 30>\u001b[1;34m()\u001b[0m\n\u001b[0;32m     39\u001b[0m     \u001b[38;5;28mprint\u001b[39m(\u001b[38;5;124mf\u001b[39m\u001b[38;5;124m'\u001b[39m\u001b[38;5;124mPay \u001b[39m\u001b[38;5;132;01m{\u001b[39;00mfruit_id\u001b[38;5;132;01m}\u001b[39;00m\u001b[38;5;124m*\u001b[39m\u001b[38;5;130;01m{{\u001b[39;00m\u001b[38;5;124mfruit_stock[fruit_id][price]\u001b[39m\u001b[38;5;130;01m}}\u001b[39;00m\u001b[38;5;124m For Mango\u001b[39m\u001b[38;5;124m'\u001b[39m)\n\u001b[0;32m     40\u001b[0m \u001b[38;5;28;01melif\u001b[39;00m fruit\u001b[38;5;241m==\u001b[39m\u001b[38;5;124m'\u001b[39m\u001b[38;5;124mbanana\u001b[39m\u001b[38;5;124m'\u001b[39m:\n\u001b[1;32m---> 41\u001b[0m     \u001b[38;5;28mprint\u001b[39m(\u001b[38;5;124mf\u001b[39m\u001b[38;5;124m'\u001b[39m\u001b[38;5;124mFruit Price=\u001b[39m\u001b[38;5;132;01m{\u001b[39;00mfruit_stock[fruit_id][price]\u001b[38;5;132;01m}\u001b[39;00m\u001b[38;5;124m'\u001b[39m)\n\u001b[0;32m     42\u001b[0m     quantity\u001b[38;5;241m=\u001b[39m\u001b[38;5;28mint\u001b[39m(\u001b[38;5;28minput\u001b[39m(\u001b[38;5;124m'\u001b[39m\u001b[38;5;124mEnter Quantity: \u001b[39m\u001b[38;5;124m'\u001b[39m))\n\u001b[0;32m     43\u001b[0m     fruit_stock[fruit_id][\u001b[38;5;124m'\u001b[39m\u001b[38;5;124mquantity\u001b[39m\u001b[38;5;124m'\u001b[39m]\u001b[38;5;241m-\u001b[39m\u001b[38;5;241m=\u001b[39mquantity\n",
      "\u001b[1;31mKeyError\u001b[0m: 435"
     ]
    }
   ],
   "source": [
    "import random\n",
    "print('Welcome to fruit market')\n",
    "print('1. Manager \\n2. Customer')\n",
    "available_fruits=['mango','banana','orange','grapes']\n",
    "fruit_stock=dict()\n",
    "fruit_item=['name','quantity','price','alert']\n",
    "option=int(input('Select Your role: '))\n",
    "if option==1:\n",
    "    print('Fruit Market Manager\\n1.Add Fruit\\n2.View Fruit\\n3.Update Fruit')\n",
    "    choice=int(input('Enter Your Choice: '))\n",
    "    if choice==1:\n",
    "        for af in available_fruits:\n",
    "            fruit_id=random.randint(100,999)\n",
    "            fruit_stock.setdefault(fruit_id,dict().fromkeys(fruit_item))\n",
    "            fruit_stock[fruit_id]['name']=af\n",
    "            fruit_stock[fruit_id]['price']=int(input(f'Enter {af} price: '))\n",
    "            fruit_stock[fruit_id]['quantity']=int(input('Enter quantity: '))\n",
    "            fruit_stock[fruit_id]['alert']=12\n",
    "    elif choice==2:\n",
    "        print(fruit_stock)\n",
    "    elif choice==3:\n",
    "        for af in available_fruits:\n",
    "            fruit_stock[fruit_id]['name']=af\n",
    "            fruit_stock[fruit_id]['price']=int(input(f'Enter {af} price: '))\n",
    "            fruit_stock[fruit_id]['quantity']+=int(input('Enter quantity: '))\n",
    "            fruit_stock[fruit_id]['alert']=12\n",
    "            fruit_stock.setdefault(fruit_id,dict.fromkeys(fruit_item))\n",
    "    else:\n",
    "        print('Incorrect Input')\n",
    "if option==2:\n",
    "    print(\"Welcome To Costomer zone\\n\")\n",
    "    print(f'available fruits = {available_fruits}\\n')\n",
    "    fruit=input('enter a fruit name: ')\n",
    "    fruit=fruit.lower()\n",
    "    if fruit=='mango':\n",
    "        print(f'Fruit Price={fruit_stock[fruit_id][price]}')\n",
    "        quantity=int(input('Enter Quantity: '))\n",
    "        fruit_stock[fruit_id]['quantity']-=quantity\n",
    "        print(f'Pay {fruit_id}*{{fruit_stock[fruit_id][price]}} For Mango')\n",
    "    elif fruit=='banana':\n",
    "        print(f'Fruit Price={fruit_stock[fruit_id][price]}')\n",
    "        quantity=int(input('Enter Quantity: '))\n",
    "        fruit_stock[fruit_id]['quantity']-=quantity\n",
    "        print(f'Pay {quantity}*{{fruit_stock[fruit_id][price]}} For Banana')\n",
    "    elif fruit=='orange':\n",
    "        print(f'Fruit Price={fruit_stock[fruit_id][price]}')\n",
    "        quantity=int(input('Enter Quantity: '))\n",
    "        fruit_stock[fruit_id]['quantity']-=quantity\n",
    "        print(f'Pay {quantity}*{{fruit_stock[fruit_id][price]}} For Orange')\n",
    "    elif fruit=='grapes':\n",
    "        print(f'Fruit Price={fruit_stock[fruit_id][price]}')\n",
    "        quantity=int(input('Enter Quantity: '))\n",
    "        fruit_stock[fruit_id]['quantity']-=quantity\n",
    "        print(f'Pay {quantity}*{{fruit_stock[fruit_id][price]}} For Grapes')\n",
    "    else:\n",
    "        print('Unavailable Fruit')"
   ]
  },
  {
   "cell_type": "code",
   "execution_count": 21,
   "id": "9c0638f7",
   "metadata": {},
   "outputs": [
    {
     "data": {
      "text/plain": [
       "{605: {'name': 'mango', 'quantity': 5, 'price': 25, 'alert': 12},\n",
       " 443: {'name': 'banana', 'quantity': 5, 'price': 5, 'alert': 12},\n",
       " 917: {'name': 'orange', 'quantity': 5, 'price': 5, 'alert': 12},\n",
       " 435: {'name': 'grapes', 'quantity': 5, 'price': 5, 'alert': 12}}"
      ]
     },
     "execution_count": 21,
     "metadata": {},
     "output_type": "execute_result"
    }
   ],
   "source": [
    "fruit_stock"
   ]
  },
  {
   "cell_type": "code",
   "execution_count": 22,
   "id": "92231c4d",
   "metadata": {},
   "outputs": [
    {
     "data": {
      "text/plain": [
       "435"
      ]
     },
     "execution_count": 22,
     "metadata": {},
     "output_type": "execute_result"
    }
   ],
   "source": [
    "fruit_id"
   ]
  },
  {
   "cell_type": "code",
   "execution_count": 24,
   "id": "44ab2984",
   "metadata": {},
   "outputs": [
    {
     "name": "stdout",
     "output_type": "stream",
     "text": [
      "{605: {'name': 'mango', 'quantity': 5, 'price': 25, 'alert': 12}, 443: {'name': 'banana', 'quantity': 5, 'price': 5, 'alert': 12}, 917: {'name': 'orange', 'quantity': 5, 'price': 5, 'alert': 12}, 435: {'name': 'grapes', 'quantity': 5, 'price': 5, 'alert': 12}}\n"
     ]
    }
   ],
   "source": [
    "print(fruit_stock)"
   ]
  },
  {
   "cell_type": "code",
   "execution_count": null,
   "id": "682010a0",
   "metadata": {},
   "outputs": [],
   "source": []
  }
 ],
 "metadata": {
  "kernelspec": {
   "display_name": "Python 3 (ipykernel)",
   "language": "python",
   "name": "python3"
  },
  "language_info": {
   "codemirror_mode": {
    "name": "ipython",
    "version": 3
   },
   "file_extension": ".py",
   "mimetype": "text/x-python",
   "name": "python",
   "nbconvert_exporter": "python",
   "pygments_lexer": "ipython3",
   "version": "3.9.12"
  }
 },
 "nbformat": 4,
 "nbformat_minor": 5
}
