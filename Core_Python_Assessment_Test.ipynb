{
 "cells": [
  {
   "cell_type": "code",
   "execution_count": null,
   "id": "fde8966f",
   "metadata": {},
   "outputs": [],
   "source": [
    "print('Welcome to fruit market')\n",
    "print('1. Manager \\n2. Customer')\n",
    "option=int(input('Select Your rle: '))\n",
    "if option==1:\n",
    "    print('Fruit Market Manager')"
   ]
  },
  {
   "cell_type": "code",
   "execution_count": null,
   "id": "33236cf9",
   "metadata": {},
   "outputs": [
    {
     "name": "stdout",
     "output_type": "stream",
     "text": [
      "Welcome to fruit market\n",
      "1. Manager \n",
      "2. Customer\n"
     ]
    }
   ],
   "source": [
    "print('Welcome to fruit market')\n",
    "print('1. Manager \\n2. Customer')\n",
    "fruit_view=dict()\n",
    "option=int(input('Select Your role: '))\n",
    "if option==1:\n",
    "    print('Fruit Market Manager \\n 1. Add Fruit stock \\n 2. View Fruit Stock \\n 3. Update Fruit Stock')\n",
    "    choice=input('Enter Your Choice: ')\n",
    "    if choice==1:\n",
    "      print('ADD FRUIT STOCK')\n",
    "      fruit=input('Enter Fruit Name: ')\n",
    "      qty=input('Enter Quantity: ')\n",
    "      price=int(input('Enter Price: '))\n",
    "      fruit_view.update(fruit,qty,price)"
   ]
  },
  {
   "cell_type": "code",
   "execution_count": 17,
   "id": "5a7a0b80",
   "metadata": {},
   "outputs": [
    {
     "name": "stdout",
     "output_type": "stream",
     "text": [
      "Welcome to fruit market\n",
      "1. Manager \n",
      "2. Customer\n",
      "Select Your role: 1\n",
      "Fruit Market Manager \n",
      " 1. Add Fruit stock \n",
      " 2. View Fruit Stock \n",
      " 3. Update Fruit Stock\n",
      "Enter Your Choice: 1\n",
      "ADD FRUIT STOCK\n",
      "Enter Fruit Name: banana\n",
      "Enter Quantity (in kg): 5\n",
      "Enter Price (for kg): 60\n"
     ]
    }
   ],
   "source": [
    "print('Welcome to fruit market')\n",
    "print('1. Manager \\n2. Customer')\n",
    "fruit_view ={'fruit':{'qty':'none','price':'none'}}\n",
    "option=int(input('Select Your role: '))\n",
    "if option==1:\n",
    "    print('Fruit Market Manager \\n 1. Add Fruit stock \\n 2. View Fruit Stock \\n 3. Update Fruit Stock')\n",
    "    choice=int(input('Enter Your Choice: '))\n",
    "    if choice==1:\n",
    "        print('ADD FRUIT STOCK')\n",
    "        fruit=input('Enter Fruit Name: ')\n",
    "        fruit_view['fruit']=fruit\n",
    "        qty=int(input('Enter Quantity (in kg): '))\n",
    "        fruit_view['qty']=qty\n",
    "        price=int(input('Enter Price (for kg): '))\n",
    "        fruit_view['price']=price\n",
    "        \n",
    "    elif choice==2:\n",
    "        print(fruit_view)\n",
    "        #repeat=('Do You Want To Perform More Operation: Press Y For Yes Or N For No: ')\n",
    "        #if repeat=='y' or repeat=='Y':\n",
    "        #    continue\n",
    "        #elif repeat=='n' or repeat=='N':\n",
    "         #   break\n",
    "        #else:\n",
    "         #   print('incorrect input')\n",
    "    elif choice==3:\n",
    "        print('Update Fruit Stock')\n",
    "        print(fruit_view)\n",
    "        fruit_qty=int(input('Enter Fruit Quantity: '))\n",
    "        fruit_view['qty']=qty+fruit_qty\n",
    "        fruit_price=int(input('Enter Fruit price: '))\n",
    "        fruit_view['price']=fruit_price\n",
    "else:\n",
    "    print(f'{fruit_view}')"
   ]
  },
  {
   "cell_type": "code",
   "execution_count": null,
   "id": "3a9e7ba3",
   "metadata": {},
   "outputs": [],
   "source": [
    "fruit_view\n"
   ]
  },
  {
   "cell_type": "code",
   "execution_count": null,
   "id": "e79e20e7",
   "metadata": {},
   "outputs": [],
   "source": [
    "import random\n",
    "print('Welcome to fruit market')\n",
    "print('1. Manager \\n2. Customer')\n",
    "available_fruits=['mango','banana','orange','grapes']\n",
    "fruit_stock=dict()\n",
    "fruit_id=100\n",
    "fruit_item=['name','quantity','price','alert']\n",
    "option=int(input('Select Your role: '))\n",
    "if option==1:\n",
    "    print('Fruit Market Manager\\n1.Add Fruit\\n2.View Fruit\\n3.Update Fruit')\n",
    "    choice=int(input('Enter Your Choice: '))\n",
    "    if choice==1:\n",
    "    for af in available_fruits:\n",
    "        fruit_id+=1\n",
    "        fruit_stock.setdefault(fruit_id,dict.fromkeys(fruit_item))\n",
    "        fruit_stock[fruit_id]['name']=af\n",
    "        fruit_stock[fruit_id]['price']=int(input(f'Enter {af} price: '))\n",
    "        fruit_stock[fruit_id]['quantity']=int(input('Enter quantity: '))\n",
    "        fruit_stock[fruit_id]['alert']=12\n",
    "    elif choice==2:\n",
    "        print(fruit_stock)\n",
    "    elif choice==3:\n",
    "    for af in available_fruits:\n",
    "        fruit_id+=1\n",
    "        fruit_stock.setdefault(fruit_id,dict.fromkeys(fruit_item))\n",
    "        fruit_stock[fruit_id]['name']=af\n",
    "        fruit_stock[fruit_id]['price']=int(input(f'Enter {af} price: '))\n",
    "        fruit_stock[fruit_id]['quantity']+=int(input('Enter quantity: '))\n",
    "        fruit_stock[fruit_id]['alert']=12\n",
    "    else:\n",
    "        print('Incorrect Input')\n",
    "if option==2:\n",
    "    print(\"Welcome To Costomer zone\\n\")\n",
    "    print(f'available fruits = {available_fruits}\\n')\n",
    "    fruit=input('enter a fruit name: ')\n",
    "    fruit=fruit.lower()\n",
    "    if fruit=='mango':\n",
    "        print(f'Fruit Price={fruit_stock[101][price]}')\n",
    "        quantity=int(input('Enter Quantity: '))\n",
    "        fruit_stock[fruit_id]['quantity']-=quantity\n",
    "        print(f'Pay {101}*{{fruit_stock[101][price]}} For Mango')\n",
    "    elif fruit=='banana':\n",
    "        print(f'Fruit Price={fruit_stock[102][price]}')\n",
    "        quantity=int(input('Enter Quantity: '))\n",
    "        fruit_stock[102]['quantity']-=quantity\n",
    "        print(f'Pay {quantity}*{{fruit_stock[102][price]}} For Banana')\n",
    "    elif fruit=='orange':\n",
    "        print(f'Fruit Price={fruit_stock[103][price]}')\n",
    "        quantity=int(input('Enter Quantity: '))\n",
    "        fruit_stock[103]['quantity']-=quantity\n",
    "        print(f'Pay {quantity}*{{fruit_stock[103][price]}} For Orange')\n",
    "    elif fruit=='grapes':\n",
    "        print(f'Fruit Price={fruit_stock[104][price]}')\n",
    "        quantity=int(input('Enter Quantity: '))\n",
    "        fruit_stock[104]['quantity']-=quantity\n",
    "        print(f'Pay {quantity}*{{fruit_stock[104][price]}} For Grapes')\n",
    "    else:\n",
    "        print('Unavailable Fruit')"
   ]
  },
  {
   "cell_type": "code",
   "execution_count": null,
   "id": "a043ad2a",
   "metadata": {},
   "outputs": [],
   "source": []
  }
 ],
 "metadata": {
  "kernelspec": {
   "display_name": "Python 3 (ipykernel)",
   "language": "python",
   "name": "python3"
  },
  "language_info": {
   "codemirror_mode": {
    "name": "ipython",
    "version": 3
   },
   "file_extension": ".py",
   "mimetype": "text/x-python",
   "name": "python",
   "nbconvert_exporter": "python",
   "pygments_lexer": "ipython3",
   "version": "3.9.12"
  }
 },
 "nbformat": 4,
 "nbformat_minor": 5
}
