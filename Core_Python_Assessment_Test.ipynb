{
 "cells": [
  {
   "cell_type": "code",
   "execution_count": 2,
   "id": "e79e20e7",
   "metadata": {},
   "outputs": [
    {
     "name": "stdout",
     "output_type": "stream",
     "text": [
      "Welcome to fruit market\n",
      "1. Manager \n",
      "2. Customer\n",
      "Select Your role: 1\n",
      "Fruit Market Manager\n",
      "1.Add Fruit\n",
      "2.View Fruit\n",
      "3.Update Fruit\n",
      "Enter Your Choice: 1\n",
      "Enter mango price: 65\n",
      "Enter quantity: 45\n",
      "Enter banana price: 65\n",
      "Enter quantity: 154\n",
      "Enter orange price: 15\n",
      "Enter quantity: 154\n",
      "Enter grapes price: 154\n",
      "Enter quantity: 154\n"
     ]
    }
   ],
   "source": [
    "import random\n",
    "print('Welcome to fruit market')\n",
    "print('1. Manager \\n2. Customer')\n",
    "available_fruits=['mango','banana','orange','grapes']\n",
    "fruit_stock=dict()\n",
    "fruit_id=random.randint(100,999)\n",
    "fruit_item=['name','quantity','price','alert']\n",
    "option=int(input('Select Your role: '))\n",
    "if option==1:\n",
    "  print('Fruit Market Manager\\n1.Add Fruit\\n2.View Fruit\\n3.Update Fruit')\n",
    "  choice=int(input('Enter Your Choice: '))\n",
    "  if choice==1:\n",
    "    for af in available_fruits:\n",
    "      fruit_stock.setdefault(fruit_id,dict.fromkeys(fruit_item))\n",
    "      fruit_stock[fruit_id]['name']=af\n",
    "      fruit_stock[fruit_id]['price']=int(input(f'Enter {af} price: '))\n",
    "      fruit_stock[fruit_id]['quantity']=int(input('Enter quantity: '))\n",
    "      fruit_stock[fruit_id]['alert']=12\n",
    "  elif choice==2:\n",
    "    print(fruit_stock)\n",
    "  elif choice==3:\n",
    "    for af in available_fruits:\n",
    "      fruit_id+=1\n",
    "      fruit_stock.setdefault(fruit_id,dict.fromkeys(fruit_item))\n",
    "      fruit_stock[fruit_id]['name']=af\n",
    "      fruit_stock[fruit_id]['price']=int(input(f'Enter {af} price: '))\n",
    "      fruit_stock[fruit_id]['quantity']+=int(input('Enter quantity: '))\n",
    "      fruit_stock[fruit_id]['alert']=12\n",
    "  else:\n",
    "    print('Incorrect Input')\n",
    "if option==2:\n",
    "  print(\"Welcome To Costomer zone\\n\")\n",
    "  print(f'available fruits = {available_fruits}\\n')\n",
    "  fruit=input('enter a fruit name: ')\n",
    "  fruit=fruit.lower()\n",
    "  if fruit=='mango':\n",
    "    print(f'Fruit Price={fruit_stock[fruit_id][price]}')\n",
    "    quantity=int(input('Enter Quantity: '))\n",
    "    fruit_stock[fruit_id]['quantity']-=quantity\n",
    "    print(f'Pay {fruit_id}*{{fruit_stock[fruit_id][price]}} For Mango')\n",
    "  elif fruit=='banana':\n",
    "    print(f'Fruit Price={fruit_stock[fruit_id][price]}')\n",
    "    quantity=int(input('Enter Quantity: '))\n",
    "    fruit_stock[fruit_id]['quantity']-=quantity\n",
    "    print(f'Pay {quantity}*{{fruit_stock[fruit_id][price]}} For Banana')\n",
    "  elif fruit=='orange':\n",
    "    print(f'Fruit Price={fruit_stock[fruit_id][price]}')\n",
    "    quantity=int(input('Enter Quantity: '))\n",
    "    fruit_stock[fruit_id]['quantity']-=quantity\n",
    "    print(f'Pay {quantity}*{{fruit_stock[fruit_id][price]}} For Orange')\n",
    "  elif fruit=='grapes':\n",
    "    print(f'Fruit Price={fruit_stock[fruit_id][price]}')\n",
    "    quantity=int(input('Enter Quantity: '))\n",
    "    fruit_stock[fruit_id]['quantity']-=quantity\n",
    "    print(f'Pay {quantity}*{{fruit_stock[fruit_id][price]}} For Grapes')\n",
    "  else:\n",
    "    print('Unavailable Fruit')"
   ]
  },
  {
   "cell_type": "code",
   "execution_count": null,
   "id": "9c0638f7",
   "metadata": {},
   "outputs": [],
   "source": []
  }
 ],
 "metadata": {
  "kernelspec": {
   "display_name": "Python 3 (ipykernel)",
   "language": "python",
   "name": "python3"
  },
  "language_info": {
   "codemirror_mode": {
    "name": "ipython",
    "version": 3
   },
   "file_extension": ".py",
   "mimetype": "text/x-python",
   "name": "python",
   "nbconvert_exporter": "python",
   "pygments_lexer": "ipython3",
   "version": "3.9.12"
  }
 },
 "nbformat": 4,
 "nbformat_minor": 5
}
