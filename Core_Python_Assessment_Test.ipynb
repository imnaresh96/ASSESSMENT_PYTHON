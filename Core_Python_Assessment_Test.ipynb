{
 "cells": [
  {
   "cell_type": "code",
   "execution_count": null,
   "id": "fde8966f",
   "metadata": {},
   "outputs": [],
   "source": [
    "print('Welcome to fruit market')\n",
    "print('1. Manager \\n2. Customer')\n",
    "option=int(input('Select Your rle: '))\n",
    "if option==1:\n",
    "    print('Fruit Market Manager')"
   ]
  },
  {
   "cell_type": "code",
   "execution_count": null,
   "id": "33236cf9",
   "metadata": {},
   "outputs": [
    {
     "name": "stdout",
     "output_type": "stream",
     "text": [
      "Welcome to fruit market\n",
      "1. Manager \n",
      "2. Customer\n"
     ]
    }
   ],
   "source": [
    "print('Welcome to fruit market')\n",
    "print('1. Manager \\n2. Customer')\n",
    "fruit_view=dict()\n",
    "option=int(input('Select Your role: '))\n",
    "if option==1:\n",
    "    print('Fruit Market Manager \\n 1. Add Fruit stock \\n 2. View Fruit Stock \\n 3. Update Fruit Stock')\n",
    "    choice=input('Enter Your Choice: ')\n",
    "    if choice==1:\n",
    "      print('ADD FRUIT STOCK')\n",
    "      fruit=input('Enter Fruit Name: ')\n",
    "      qty=input('Enter Quantity: ')\n",
    "      price=int(input('Enter Price: '))\n",
    "      fruit_view.update(fruit,qty,price)"
   ]
  },
  {
   "cell_type": "code",
   "execution_count": null,
   "id": "5a7a0b80",
   "metadata": {},
   "outputs": [],
   "source": [
    "print('Welcome to fruit market')\n",
    "print('1. Manager \\n2. Customer')\n",
    "fruit_view ={'fruit':{'qty':'none','price':'none'}}\n",
    "option=int(input('Select Your role: '))\n",
    "if option==1:\n",
    "    print('Fruit Market Manager \\n 1. Add Fruit stock \\n 2. View Fruit Stock \\n 3. Update Fruit Stock')\n",
    "    choice=int(input('Enter Your Choice: '))\n",
    "    if choice==1:\n",
    "        print('ADD FRUIT STOCK')\n",
    "        fruit=input('Enter Fruit Name: ')\n",
    "        fruit_view['fruit']=fruit\n",
    "        qty=int(input('Enter Quantity (in kg): '))\n",
    "        fruit_view['qty']=qty\n",
    "        price=int(input('Enter Price (for kg): '))\n",
    "        fruit_view['price']=price\n",
    "    elif choice==2:\n",
    "        print(fruit_view)\n",
    "    elif choice==3:\n",
    "        print('Update Fruit Stock')\n",
    "        print(fruit_view)\n",
    "        fruit_qty=int(input('Enter Fruit Quantity: '))\n",
    "        fruit_view['qty']=qty+fruit_qty\n",
    "        fruit_price=int(input('Enter Fruit price: '))\n",
    "        fruit_view['price']=fruit_price\n",
    "else:\n",
    "    print(f'{fruit_view}'')"
   ]
  },
  {
   "cell_type": "code",
   "execution_count": null,
   "id": "3a9e7ba3",
   "metadata": {},
   "outputs": [],
   "source": [
    "fruit_view\n"
   ]
  },
  {
   "cell_type": "code",
   "execution_count": null,
   "id": "e79e20e7",
   "metadata": {},
   "outputs": [],
   "source": []
  }
 ],
 "metadata": {
  "kernelspec": {
   "display_name": "Python 3 (ipykernel)",
   "language": "python",
   "name": "python3"
  },
  "language_info": {
   "codemirror_mode": {
    "name": "ipython",
    "version": 3
   },
   "file_extension": ".py",
   "mimetype": "text/x-python",
   "name": "python",
   "nbconvert_exporter": "python",
   "pygments_lexer": "ipython3",
   "version": "3.9.12"
  }
 },
 "nbformat": 4,
 "nbformat_minor": 5
}
